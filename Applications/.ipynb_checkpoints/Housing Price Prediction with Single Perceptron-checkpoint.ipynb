{
 "cells": [
  {
   "cell_type": "markdown",
   "metadata": {},
   "source": [
    "# Housing Price Prediction with Single Perceptron\n",
    "\n",
    "Imagine if house pricing was as easy as a house costs 50k+50k per bedroom, so that a 1 bedroom house costs 100k, a 2 bedroom house costs 150k etc.\n",
    "Here is the basic single perceptron house price predictor:"
   ]
  },
  {
   "cell_type": "code",
   "execution_count": 1,
   "metadata": {
    "ExecuteTime": {
     "end_time": "2019-09-13T11:08:24.554841Z",
     "start_time": "2019-09-13T11:08:23.067755Z"
    }
   },
   "outputs": [],
   "source": [
    "import tensorflow as tf\n",
    "import numpy as np"
   ]
  },
  {
   "cell_type": "code",
   "execution_count": 24,
   "metadata": {
    "ExecuteTime": {
     "end_time": "2019-09-13T11:21:31.731688Z",
     "start_time": "2019-09-13T11:21:31.721840Z"
    }
   },
   "outputs": [],
   "source": [
    "def house_model(bedroom_num):\n",
    "    x = np.arange(10, dtype='float') # number of bedrooms 1 to 10\n",
    "    y = [50+50*i for i in x] # price of the house by bedroom\n",
    "    model = tf.keras.Sequential(\n",
    "        [tf.keras.layers.Dense(units=1, input_shape=[1])] # single neuron, 1 input\n",
    "    )\n",
    "    model.compile(optimizer='sgd', loss='mean_squared_error') # configures the model for training\n",
    "    model.fit(x, y, epochs=1000) # train the model\n",
    "    \n",
    "    return model.predict(bedroom_num)[0]"
   ]
  },
  {
   "cell_type": "code",
   "execution_count": 25,
   "metadata": {
    "ExecuteTime": {
     "end_time": "2019-09-13T11:21:34.264842Z",
     "start_time": "2019-09-13T11:21:32.224313Z"
    }
   },
   "outputs": [
    {
     "name": "stdout",
     "output_type": "stream",
     "text": [
      "Epoch 1/1000\n",
      "10/10 [==============================] - 0s 13ms/step - loss: 92159.2109\n",
      "Epoch 2/1000\n",
      "10/10 [==============================] - 0s 69us/step - loss: 16322.2969\n",
      "Epoch 3/1000\n",
      "10/10 [==============================] - 0s 77us/step - loss: 3215.9995\n",
      "Epoch 4/1000\n",
      "10/10 [==============================] - 0s 143us/step - loss: 947.2581\n",
      "Epoch 5/1000\n",
      "10/10 [==============================] - 0s 99us/step - loss: 550.8942\n",
      "Epoch 6/1000\n",
      "10/10 [==============================] - 0s 147us/step - loss: 478.0556\n",
      "Epoch 7/1000\n",
      "10/10 [==============================] - 0s 244us/step - loss: 461.1598\n",
      "Epoch 8/1000\n",
      "10/10 [==============================] - 0s 190us/step - loss: 453.9770\n",
      "Epoch 9/1000\n",
      "10/10 [==============================] - 0s 98us/step - loss: 448.5204\n",
      "Epoch 10/1000\n",
      "10/10 [==============================] - 0s 105us/step - loss: 443.4094\n",
      "Epoch 11/1000\n",
      "10/10 [==============================] - 0s 117us/step - loss: 438.4051\n",
      "Epoch 12/1000\n",
      "10/10 [==============================] - 0s 116us/step - loss: 433.4658\n",
      "Epoch 13/1000\n",
      "10/10 [==============================] - 0s 109us/step - loss: 428.5837\n",
      "Epoch 14/1000\n",
      "10/10 [==============================] - 0s 103us/step - loss: 423.7566\n",
      "Epoch 15/1000\n",
      "10/10 [==============================] - 0s 189us/step - loss: 418.9840\n",
      "Epoch 16/1000\n",
      "10/10 [==============================] - 0s 147us/step - loss: 414.2651\n",
      "Epoch 17/1000\n",
      "10/10 [==============================] - 0s 227us/step - loss: 409.5993\n",
      "Epoch 18/1000\n",
      "10/10 [==============================] - 0s 85us/step - loss: 404.9861\n",
      "Epoch 19/1000\n",
      "10/10 [==============================] - 0s 75us/step - loss: 400.4250\n",
      "Epoch 20/1000\n",
      "10/10 [==============================] - 0s 91us/step - loss: 395.9150\n",
      "Epoch 21/1000\n",
      "10/10 [==============================] - 0s 84us/step - loss: 391.4561\n",
      "Epoch 22/1000\n",
      "10/10 [==============================] - 0s 307us/step - loss: 387.0471\n",
      "Epoch 23/1000\n",
      "10/10 [==============================] - 0s 135us/step - loss: 382.6880\n",
      "Epoch 24/1000\n",
      "10/10 [==============================] - 0s 103us/step - loss: 378.3778\n",
      "Epoch 25/1000\n",
      "10/10 [==============================] - 0s 68us/step - loss: 374.1163\n",
      "Epoch 26/1000\n",
      "10/10 [==============================] - 0s 73us/step - loss: 369.9030\n",
      "Epoch 27/1000\n",
      "10/10 [==============================] - 0s 57us/step - loss: 365.7366\n",
      "Epoch 28/1000\n",
      "10/10 [==============================] - 0s 93us/step - loss: 361.6176\n",
      "Epoch 29/1000\n",
      "10/10 [==============================] - 0s 86us/step - loss: 357.5448\n",
      "Epoch 30/1000\n",
      "10/10 [==============================] - 0s 60us/step - loss: 353.5178\n",
      "Epoch 31/1000\n",
      "10/10 [==============================] - 0s 95us/step - loss: 349.5362\n",
      "Epoch 32/1000\n",
      "10/10 [==============================] - 0s 72us/step - loss: 345.5997\n",
      "Epoch 33/1000\n",
      "10/10 [==============================] - 0s 62us/step - loss: 341.7073\n",
      "Epoch 34/1000\n",
      "10/10 [==============================] - 0s 69us/step - loss: 337.8588\n",
      "Epoch 35/1000\n",
      "10/10 [==============================] - 0s 59us/step - loss: 334.0536\n",
      "Epoch 36/1000\n",
      "10/10 [==============================] - 0s 72us/step - loss: 330.2912\n",
      "Epoch 37/1000\n",
      "10/10 [==============================] - 0s 68us/step - loss: 326.5711\n",
      "Epoch 38/1000\n",
      "10/10 [==============================] - 0s 62us/step - loss: 322.8932\n",
      "Epoch 39/1000\n",
      "10/10 [==============================] - 0s 69us/step - loss: 319.2567\n",
      "Epoch 40/1000\n",
      "10/10 [==============================] - 0s 63us/step - loss: 315.6610\n",
      "Epoch 41/1000\n",
      "10/10 [==============================] - 0s 79us/step - loss: 312.1058\n",
      "Epoch 42/1000\n",
      "10/10 [==============================] - 0s 80us/step - loss: 308.5906\n",
      "Epoch 43/1000\n",
      "10/10 [==============================] - 0s 73us/step - loss: 305.1151\n",
      "Epoch 44/1000\n",
      "10/10 [==============================] - 0s 67us/step - loss: 301.6786\n",
      "Epoch 45/1000\n",
      "10/10 [==============================] - 0s 68us/step - loss: 298.2809\n",
      "Epoch 46/1000\n",
      "10/10 [==============================] - 0s 58us/step - loss: 294.9215\n",
      "Epoch 47/1000\n",
      "10/10 [==============================] - 0s 757us/step - loss: 291.5999\n",
      "Epoch 48/1000\n",
      "10/10 [==============================] - 0s 116us/step - loss: 288.3157\n",
      "Epoch 49/1000\n",
      "10/10 [==============================] - 0s 149us/step - loss: 285.0685\n",
      "Epoch 50/1000\n",
      "10/10 [==============================] - 0s 118us/step - loss: 281.8579\n",
      "Epoch 51/1000\n",
      "10/10 [==============================] - 0s 127us/step - loss: 278.6834\n",
      "Epoch 52/1000\n",
      "10/10 [==============================] - 0s 112us/step - loss: 275.5446\n",
      "Epoch 53/1000\n",
      "10/10 [==============================] - 0s 161us/step - loss: 272.4413\n",
      "Epoch 54/1000\n",
      "10/10 [==============================] - 0s 111us/step - loss: 269.3730\n",
      "Epoch 55/1000\n",
      "10/10 [==============================] - 0s 97us/step - loss: 266.3391\n",
      "Epoch 56/1000\n",
      "10/10 [==============================] - 0s 68us/step - loss: 263.3394\n",
      "Epoch 57/1000\n",
      "10/10 [==============================] - 0s 73us/step - loss: 260.3736\n",
      "Epoch 58/1000\n",
      "10/10 [==============================] - 0s 71us/step - loss: 257.4411\n",
      "Epoch 59/1000\n",
      "10/10 [==============================] - 0s 84us/step - loss: 254.5417\n",
      "Epoch 60/1000\n",
      "10/10 [==============================] - 0s 109us/step - loss: 251.6747\n",
      "Epoch 61/1000\n",
      "10/10 [==============================] - 0s 77us/step - loss: 248.8402\n",
      "Epoch 62/1000\n",
      "10/10 [==============================] - 0s 67us/step - loss: 246.0377\n",
      "Epoch 63/1000\n",
      "10/10 [==============================] - 0s 96us/step - loss: 243.2667\n",
      "Epoch 64/1000\n",
      "10/10 [==============================] - 0s 90us/step - loss: 240.5267\n",
      "Epoch 65/1000\n",
      "10/10 [==============================] - 0s 86us/step - loss: 237.8178\n",
      "Epoch 66/1000\n",
      "10/10 [==============================] - 0s 65us/step - loss: 235.1393\n",
      "Epoch 67/1000\n",
      "10/10 [==============================] - 0s 67us/step - loss: 232.4910\n",
      "Epoch 68/1000\n",
      "10/10 [==============================] - 0s 70us/step - loss: 229.8725\n",
      "Epoch 69/1000\n",
      "10/10 [==============================] - 0s 71us/step - loss: 227.2835\n",
      "Epoch 70/1000\n",
      "10/10 [==============================] - 0s 94us/step - loss: 224.7237\n",
      "Epoch 71/1000\n",
      "10/10 [==============================] - 0s 92us/step - loss: 222.1927\n",
      "Epoch 72/1000\n",
      "10/10 [==============================] - 0s 66us/step - loss: 219.6903\n",
      "Epoch 73/1000\n",
      "10/10 [==============================] - 0s 93us/step - loss: 217.2160\n",
      "Epoch 74/1000\n",
      "10/10 [==============================] - 0s 68us/step - loss: 214.7695\n",
      "Epoch 75/1000\n",
      "10/10 [==============================] - 0s 74us/step - loss: 212.3507\n",
      "Epoch 76/1000\n",
      "10/10 [==============================] - 0s 84us/step - loss: 209.9591\n",
      "Epoch 77/1000\n",
      "10/10 [==============================] - 0s 73us/step - loss: 207.5944\n",
      "Epoch 78/1000\n",
      "10/10 [==============================] - 0s 73us/step - loss: 205.2563\n",
      "Epoch 79/1000\n",
      "10/10 [==============================] - 0s 76us/step - loss: 202.9446\n",
      "Epoch 80/1000\n",
      "10/10 [==============================] - 0s 87us/step - loss: 200.6589\n",
      "Epoch 81/1000\n",
      "10/10 [==============================] - 0s 78us/step - loss: 198.3990\n",
      "Epoch 82/1000\n",
      "10/10 [==============================] - 0s 76us/step - loss: 196.1644\n",
      "Epoch 83/1000\n",
      "10/10 [==============================] - 0s 72us/step - loss: 193.9551\n",
      "Epoch 84/1000\n",
      "10/10 [==============================] - 0s 72us/step - loss: 191.7706\n",
      "Epoch 85/1000\n",
      "10/10 [==============================] - 0s 72us/step - loss: 189.6108\n",
      "Epoch 86/1000\n",
      "10/10 [==============================] - 0s 67us/step - loss: 187.4753\n",
      "Epoch 87/1000\n",
      "10/10 [==============================] - 0s 86us/step - loss: 185.3639\n",
      "Epoch 88/1000\n",
      "10/10 [==============================] - 0s 80us/step - loss: 183.2762\n",
      "Epoch 89/1000\n",
      "10/10 [==============================] - 0s 126us/step - loss: 181.2119\n",
      "Epoch 90/1000\n",
      "10/10 [==============================] - 0s 91us/step - loss: 179.1711\n",
      "Epoch 91/1000\n",
      "10/10 [==============================] - 0s 93us/step - loss: 177.1531\n",
      "Epoch 92/1000\n",
      "10/10 [==============================] - 0s 156us/step - loss: 175.1579\n",
      "Epoch 93/1000\n",
      "10/10 [==============================] - 0s 100us/step - loss: 173.1852\n",
      "Epoch 94/1000\n",
      "10/10 [==============================] - 0s 79us/step - loss: 171.2346\n",
      "Epoch 95/1000\n",
      "10/10 [==============================] - 0s 63us/step - loss: 169.3060\n",
      "Epoch 96/1000\n",
      "10/10 [==============================] - 0s 76us/step - loss: 167.3992\n",
      "Epoch 97/1000\n",
      "10/10 [==============================] - 0s 70us/step - loss: 165.5140\n"
     ]
    },
    {
     "name": "stdout",
     "output_type": "stream",
     "text": [
      "Epoch 98/1000\n",
      "10/10 [==============================] - 0s 69us/step - loss: 163.6497\n",
      "Epoch 99/1000\n",
      "10/10 [==============================] - 0s 70us/step - loss: 161.8066\n",
      "Epoch 100/1000\n",
      "10/10 [==============================] - 0s 63us/step - loss: 159.9843\n",
      "Epoch 101/1000\n",
      "10/10 [==============================] - 0s 66us/step - loss: 158.1824\n",
      "Epoch 102/1000\n",
      "10/10 [==============================] - 0s 69us/step - loss: 156.4009\n",
      "Epoch 103/1000\n",
      "10/10 [==============================] - 0s 75us/step - loss: 154.6394\n",
      "Epoch 104/1000\n",
      "10/10 [==============================] - 0s 91us/step - loss: 152.8977\n",
      "Epoch 105/1000\n",
      "10/10 [==============================] - 0s 78us/step - loss: 151.1757\n",
      "Epoch 106/1000\n",
      "10/10 [==============================] - 0s 64us/step - loss: 149.4730\n",
      "Epoch 107/1000\n",
      "10/10 [==============================] - 0s 78us/step - loss: 147.7896\n",
      "Epoch 108/1000\n",
      "10/10 [==============================] - 0s 76us/step - loss: 146.1250\n",
      "Epoch 109/1000\n",
      "10/10 [==============================] - 0s 73us/step - loss: 144.4792\n",
      "Epoch 110/1000\n",
      "10/10 [==============================] - 0s 82us/step - loss: 142.8521\n",
      "Epoch 111/1000\n",
      "10/10 [==============================] - 0s 74us/step - loss: 141.2431\n",
      "Epoch 112/1000\n",
      "10/10 [==============================] - 0s 66us/step - loss: 139.6524\n",
      "Epoch 113/1000\n",
      "10/10 [==============================] - 0s 83us/step - loss: 138.0796\n",
      "Epoch 114/1000\n",
      "10/10 [==============================] - 0s 68us/step - loss: 136.5244\n",
      "Epoch 115/1000\n",
      "10/10 [==============================] - 0s 71us/step - loss: 134.9868\n",
      "Epoch 116/1000\n",
      "10/10 [==============================] - 0s 85us/step -"
     ]
    },
    {
     "data": {
      "text/html": [
       "<b>limit_output extension: Maximum message size of 10000 exceeded with 10016 characters</b>"
      ]
     },
     "metadata": {},
     "output_type": "display_data"
    }
   ],
   "source": [
    "prediction = house_model([7])"
   ]
  },
  {
   "cell_type": "code",
   "execution_count": 26,
   "metadata": {
    "ExecuteTime": {
     "end_time": "2019-09-13T11:21:37.531889Z",
     "start_time": "2019-09-13T11:21:37.525057Z"
    }
   },
   "outputs": [
    {
     "data": {
      "text/plain": [
       "array([400.01663], dtype=float32)"
      ]
     },
     "execution_count": 26,
     "metadata": {},
     "output_type": "execute_result"
    }
   ],
   "source": [
    "prediction"
   ]
  },
  {
   "cell_type": "markdown",
   "metadata": {},
   "source": [
    "**Optimizer**: Based on how the loss function went, it will try to minimize the loss.\n",
    "\n",
    "**Loss Function**: A.k.a Cost function is a function that maps an event or values of one or more variables onto a real number intuitively representing some 'cost' associated with the event. An optimization problem seeks to minimize a loss function."
   ]
  },
  {
   "cell_type": "code",
   "execution_count": null,
   "metadata": {},
   "outputs": [],
   "source": []
  }
 ],
 "metadata": {
  "kernelspec": {
   "display_name": "Python 3",
   "language": "python",
   "name": "python3"
  },
  "language_info": {
   "codemirror_mode": {
    "name": "ipython",
    "version": 3
   },
   "file_extension": ".py",
   "mimetype": "text/x-python",
   "name": "python",
   "nbconvert_exporter": "python",
   "pygments_lexer": "ipython3",
   "version": "3.7.2"
  },
  "latex_envs": {
   "LaTeX_envs_menu_present": true,
   "autoclose": false,
   "autocomplete": true,
   "bibliofile": "biblio.bib",
   "cite_by": "apalike",
   "current_citInitial": 1,
   "eqLabelWithNumbers": true,
   "eqNumInitial": 1,
   "hotkeys": {
    "equation": "Ctrl-E",
    "itemize": "Ctrl-I"
   },
   "labels_anchors": false,
   "latex_user_defs": false,
   "report_style_numbering": false,
   "user_envs_cfg": false
  },
  "toc": {
   "base_numbering": 1,
   "nav_menu": {},
   "number_sections": true,
   "sideBar": true,
   "skip_h1_title": false,
   "title_cell": "Table of Contents",
   "title_sidebar": "Contents",
   "toc_cell": false,
   "toc_position": {},
   "toc_section_display": true,
   "toc_window_display": false
  },
  "varInspector": {
   "cols": {
    "lenName": 16,
    "lenType": 16,
    "lenVar": 40
   },
   "kernels_config": {
    "python": {
     "delete_cmd_postfix": "",
     "delete_cmd_prefix": "del ",
     "library": "var_list.py",
     "varRefreshCmd": "print(var_dic_list())"
    },
    "r": {
     "delete_cmd_postfix": ") ",
     "delete_cmd_prefix": "rm(",
     "library": "var_list.r",
     "varRefreshCmd": "cat(var_dic_list()) "
    }
   },
   "types_to_exclude": [
    "module",
    "function",
    "builtin_function_or_method",
    "instance",
    "_Feature"
   ],
   "window_display": false
  }
 },
 "nbformat": 4,
 "nbformat_minor": 2
}
