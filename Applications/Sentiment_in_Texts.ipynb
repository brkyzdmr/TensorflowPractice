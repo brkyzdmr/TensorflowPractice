{
 "cells": [
  {
   "cell_type": "markdown",
   "metadata": {},
   "source": [
    "# Sentiment in Texts"
   ]
  },
  {
   "cell_type": "code",
   "execution_count": 2,
   "metadata": {
    "ExecuteTime": {
     "end_time": "2019-09-19T03:34:59.920620Z",
     "start_time": "2019-09-19T03:34:59.914471Z"
    }
   },
   "outputs": [],
   "source": [
    "import tensorflow as tf\n",
    "from tensorflow import keras\n",
    "\n",
    "from tensorflow.keras.preprocessing.text import Tokenizer\n",
    "from tensorflow.keras.preprocessing.sequence import pad_sequences"
   ]
  },
  {
   "cell_type": "code",
   "execution_count": 3,
   "metadata": {
    "ExecuteTime": {
     "end_time": "2019-09-19T03:35:52.006953Z",
     "start_time": "2019-09-19T03:35:52.003998Z"
    }
   },
   "outputs": [],
   "source": [
    "sentences = {\n",
    "    'I love my dog',\n",
    "    'I love my cat',\n",
    "    'You love my dog.',\n",
    "    'Do you think my dog is amazing?'\n",
    "}"
   ]
  },
  {
   "cell_type": "markdown",
   "metadata": {},
   "source": [
    "## Text to sequence\n",
    "\n",
    "- Tokenizer creates a token which represents every distinct word. Actually it represents the vocabulary. num_words represents how many words gonna distinct. oov_token is token which represents the words that out of the vocabulary.\n",
    "\n",
    "- fit_on_texts function creates the vocabulary from sentences.\n",
    "\n",
    "    Here is the distinct words:\n",
    "    \n",
    "> {'<oOOV>': 1, 'my': 2, 'love': 3, 'dog': 4, 'i': 5, 'you': 6, 'cat': 7, 'do': 8, 'think': 9, 'is': 10, 'amazing': 11}\n",
    "    \n",
    "- After vocabulary has been created, we can create sequences from texts with texts_to_sequences function. It creates sequences using the vocabulary.\n",
    "\n",
    ">    I love my dog: 5, 3, 2, 7\n",
    "    \n",
    "- Most of the sentence has different length. So, this is a problem when using sequences in the neural network. Padding can handle this problem. Padding makes all of the sequences the same length.\n",
    "\n",
    "    Padded Sequences:\n",
    "    \n",
    ">    [[ 0  5  3  2  7] <br>\n",
    "     [ 0  5  3  2  4]  <br>\n",
    "     [ 9  2  4 10 11]  <br>\n",
    "     [ 0  6  3  2  4]]\n",
    "     \n",
    "- maxlen parameter controls the maximum length of the sequences. If it's lower than maximum sequence length, it discards some words from beginning or end. truncating parameter controls this feature."
   ]
  },
  {
   "cell_type": "code",
   "execution_count": 5,
   "metadata": {
    "ExecuteTime": {
     "end_time": "2019-09-19T03:38:40.517434Z",
     "start_time": "2019-09-19T03:38:40.509968Z"
    }
   },
   "outputs": [
    {
     "name": "stdout",
     "output_type": "stream",
     "text": [
      "\n",
      "Word Index =  {'<oOOV>': 1, 'my': 2, 'love': 3, 'dog': 4, 'i': 5, 'you': 6, 'cat': 7, 'do': 8, 'think': 9, 'is': 10, 'amazing': 11}\n",
      "\n",
      "Sequences =  [[5, 3, 2, 7], [5, 3, 2, 4], [8, 6, 9, 2, 4, 10, 11], [6, 3, 2, 4]]\n",
      "\n",
      "Padded Sequences:\n",
      "[[ 0  5  3  2  7]\n",
      " [ 0  5  3  2  4]\n",
      " [ 9  2  4 10 11]\n",
      " [ 0  6  3  2  4]]\n"
     ]
    }
   ],
   "source": [
    "tokenizer = Tokenizer(num_words=100, oov_token='<oOOV>')\n",
    "tokenizer.fit_on_texts(sentences)\n",
    "word_index = tokenizer.word_index\n",
    "sequences = tokenizer.texts_to_sequences(sentences)\n",
    "padded = pad_sequences(sequences, maxlen=5)\n",
    "\n",
    "print('\\nWord Index = ', word_index)\n",
    "print('\\nSequences = ', sequences)\n",
    "print('\\nPadded Sequences:')\n",
    "print(padded)"
   ]
  },
  {
   "cell_type": "markdown",
   "metadata": {},
   "source": [
    "## Testing the tokenizer"
   ]
  },
  {
   "cell_type": "code",
   "execution_count": 7,
   "metadata": {
    "ExecuteTime": {
     "end_time": "2019-09-19T04:14:44.042840Z",
     "start_time": "2019-09-19T04:14:44.039771Z"
    }
   },
   "outputs": [],
   "source": [
    "# Trying the words that the tokenizer wasn't fit to\n",
    "test_data = {\n",
    "    'i really love my dog',\n",
    "    'my dog loves my manatee'\n",
    "}"
   ]
  },
  {
   "cell_type": "code",
   "execution_count": 8,
   "metadata": {
    "ExecuteTime": {
     "end_time": "2019-09-19T04:16:08.573143Z",
     "start_time": "2019-09-19T04:16:08.566988Z"
    },
    "scrolled": true
   },
   "outputs": [
    {
     "name": "stdout",
     "output_type": "stream",
     "text": [
      "\n",
      "Test Sequence =  [[2, 4, 1, 2, 1], [5, 1, 3, 2, 4]]\n",
      "\n",
      "Padded Test Sequences:\n",
      "[[0 0 0 0 0 2 4 1 2 1]\n",
      " [0 0 0 0 0 5 1 3 2 4]]\n"
     ]
    }
   ],
   "source": [
    "test_seq = tokenizer.texts_to_sequences(test_data)\n",
    "print('\\nTest Sequence = ', test_seq)\n",
    "\n",
    "padded = pad_sequences(test_seq, maxlen=10)\n",
    "print('\\nPadded Test Sequences:')\n",
    "print(padded)"
   ]
  },
  {
   "cell_type": "markdown",
   "metadata": {},
   "source": [
    "- 1 represents the word does not exist in the vocabulary."
   ]
  }
 ],
 "metadata": {
  "kernelspec": {
   "display_name": "Python 3",
   "language": "python",
   "name": "python3"
  },
  "language_info": {
   "codemirror_mode": {
    "name": "ipython",
    "version": 3
   },
   "file_extension": ".py",
   "mimetype": "text/x-python",
   "name": "python",
   "nbconvert_exporter": "python",
   "pygments_lexer": "ipython3",
   "version": "3.7.2"
  },
  "latex_envs": {
   "LaTeX_envs_menu_present": true,
   "autoclose": false,
   "autocomplete": true,
   "bibliofile": "biblio.bib",
   "cite_by": "apalike",
   "current_citInitial": 1,
   "eqLabelWithNumbers": true,
   "eqNumInitial": 1,
   "hotkeys": {
    "equation": "Ctrl-E",
    "itemize": "Ctrl-I"
   },
   "labels_anchors": false,
   "latex_user_defs": false,
   "report_style_numbering": false,
   "user_envs_cfg": false
  },
  "toc": {
   "base_numbering": 1,
   "nav_menu": {},
   "number_sections": true,
   "sideBar": true,
   "skip_h1_title": false,
   "title_cell": "Table of Contents",
   "title_sidebar": "Contents",
   "toc_cell": false,
   "toc_position": {},
   "toc_section_display": true,
   "toc_window_display": false
  },
  "varInspector": {
   "cols": {
    "lenName": 16,
    "lenType": 16,
    "lenVar": 40
   },
   "kernels_config": {
    "python": {
     "delete_cmd_postfix": "",
     "delete_cmd_prefix": "del ",
     "library": "var_list.py",
     "varRefreshCmd": "print(var_dic_list())"
    },
    "r": {
     "delete_cmd_postfix": ") ",
     "delete_cmd_prefix": "rm(",
     "library": "var_list.r",
     "varRefreshCmd": "cat(var_dic_list()) "
    }
   },
   "types_to_exclude": [
    "module",
    "function",
    "builtin_function_or_method",
    "instance",
    "_Feature"
   ],
   "window_display": false
  }
 },
 "nbformat": 4,
 "nbformat_minor": 2
}
