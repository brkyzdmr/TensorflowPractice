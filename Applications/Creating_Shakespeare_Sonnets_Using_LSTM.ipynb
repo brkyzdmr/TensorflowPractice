{
 "cells": [
  {
   "cell_type": "markdown",
   "metadata": {},
   "source": [
    "# Creating Shakespeare Sonnets Using LSTM"
   ]
  },
  {
   "cell_type": "code",
   "execution_count": 1,
   "metadata": {
    "ExecuteTime": {
     "end_time": "2019-09-23T05:29:58.371486Z",
     "start_time": "2019-09-23T05:29:57.386838Z"
    }
   },
   "outputs": [
    {
     "name": "stdout",
     "output_type": "stream",
     "text": [
      "1.14.0\n"
     ]
    }
   ],
   "source": [
    "from tensorflow.keras.preprocessing.sequence import pad_sequences\n",
    "from tensorflow.keras.layers import Embedding, LSTM, Dense, Dropout, Bidirectional\n",
    "from tensorflow.keras.preprocessing.text import Tokenizer\n",
    "from tensorflow.keras.models import Sequential\n",
    "from tensorflow.keras.optimizers import Adam\n",
    "from tensorflow.keras import regularizers\n",
    "import tensorflow.keras.utils as ku \n",
    "import tensorflow as tf\n",
    "import numpy as np \n",
    "print(tf.__version__)\n",
    "tf.enable_eager_execution()"
   ]
  },
  {
   "cell_type": "code",
   "execution_count": 2,
   "metadata": {
    "ExecuteTime": {
     "end_time": "2019-09-23T05:29:58.522126Z",
     "start_time": "2019-09-23T05:29:58.373320Z"
    },
    "scrolled": true
   },
   "outputs": [
    {
     "name": "stdout",
     "output_type": "stream",
     "text": [
      "1 Physical GPUs, 1 Logical GPUs\n"
     ]
    }
   ],
   "source": [
    "gpus = tf.config.experimental.list_physical_devices('GPU')\n",
    "if gpus:\n",
    "    try:\n",
    "        # Currently, memory growth needs to be the same across GPUs\n",
    "        for gpu in gpus:\n",
    "            tf.config.experimental.set_memory_growth(gpu, True)\n",
    "        logical_gpus = tf.config.experimental.list_logical_devices('GPU')\n",
    "        print(len(gpus), \"Physical GPUs,\", len(logical_gpus), \"Logical GPUs\")\n",
    "    except RuntimeError as e:\n",
    "        # Memory growth must be set before GPUs have been initialized\n",
    "        print(e)"
   ]
  },
  {
   "cell_type": "markdown",
   "metadata": {},
   "source": [
    "## Getting the data"
   ]
  },
  {
   "cell_type": "code",
   "execution_count": 3,
   "metadata": {
    "ExecuteTime": {
     "end_time": "2019-09-23T05:29:59.471393Z",
     "start_time": "2019-09-23T05:29:58.523615Z"
    },
    "scrolled": true
   },
   "outputs": [
    {
     "name": "stdout",
     "output_type": "stream",
     "text": [
      "--2019-09-23 08:29:58--  https://storage.googleapis.com/laurencemoroney-blog.appspot.com/sonnets.txt\n",
      "Resolving storage.googleapis.com (storage.googleapis.com)... 216.58.206.176, 2a00:1450:4017:801::2010\n",
      "Connecting to storage.googleapis.com (storage.googleapis.com)|216.58.206.176|:443... connected.\n",
      "HTTP request sent, awaiting response... 200 OK\n",
      "Length: 93578 (91K) [text/plain]\n",
      "Saving to: ‘/tmp/sonnets.txt’\n",
      "\n",
      "/tmp/sonnets.txt    100%[===================>]  91.38K  --.-KB/s    in 0.05s   \n",
      "\n",
      "2019-09-23 08:29:59 (1.80 MB/s) - ‘/tmp/sonnets.txt’ saved [93578/93578]\n",
      "\n"
     ]
    }
   ],
   "source": [
    "!wget --no-check-certificate \\\n",
    "    https://storage.googleapis.com/laurencemoroney-blog.appspot.com/sonnets.txt \\\n",
    "    -O /tmp/sonnets.txt"
   ]
  },
  {
   "cell_type": "markdown",
   "metadata": {},
   "source": [
    "## Tokenizing and data preprocessing"
   ]
  },
  {
   "cell_type": "code",
   "execution_count": 4,
   "metadata": {
    "ExecuteTime": {
     "end_time": "2019-09-23T05:29:59.625219Z",
     "start_time": "2019-09-23T05:29:59.476112Z"
    }
   },
   "outputs": [],
   "source": [
    "data = open('/tmp/sonnets.txt').read()\n",
    "corpus = data.lower().split(\"\\n\")\n",
    "\n",
    "tokenizer = Tokenizer()\n",
    "tokenizer.fit_on_texts(corpus)\n",
    "total_words = len(tokenizer.word_index) + 1\n",
    "\n",
    "# create input sequences using list of tokens\n",
    "input_sequences = []\n",
    "for line in corpus:\n",
    "    token_list = tokenizer.texts_to_sequences([line])[0]\n",
    "    for i in range(1, len(token_list)):\n",
    "        n_gram_sequence = token_list[:i+1]\n",
    "        input_sequences.append(n_gram_sequence)\n",
    "\n",
    "\n",
    "# pad sequences \n",
    "max_sequence_len = max([len(x) for x in input_sequences])\n",
    "input_sequences = np.array(pad_sequences(input_sequences, maxlen=max_sequence_len, padding='pre'))\n",
    "\n",
    "# create predictors and label\n",
    "predictors, label = input_sequences[:,:-1],input_sequences[:,-1]\n",
    "\n",
    "label = ku.to_categorical(label, num_classes=total_words)"
   ]
  },
  {
   "cell_type": "markdown",
   "metadata": {},
   "source": [
    "## Defining the LSTM model"
   ]
  },
  {
   "cell_type": "code",
   "execution_count": 5,
   "metadata": {
    "ExecuteTime": {
     "end_time": "2019-09-23T05:30:06.110632Z",
     "start_time": "2019-09-23T05:29:59.626688Z"
    }
   },
   "outputs": [
    {
     "name": "stdout",
     "output_type": "stream",
     "text": [
      "Model: \"sequential\"\n",
      "_________________________________________________________________\n",
      "Layer (type)                 Output Shape              Param #   \n",
      "=================================================================\n",
      "embedding (Embedding)        (None, 10, 100)           321100    \n",
      "_________________________________________________________________\n",
      "bidirectional (Bidirectional (None, 10, 300)           301200    \n",
      "_________________________________________________________________\n",
      "dropout (Dropout)            (None, 10, 300)           0         \n",
      "_________________________________________________________________\n",
      "lstm_1 (LSTM)                (None, 100)               160400    \n",
      "_________________________________________________________________\n",
      "dense (Dense)                (None, 1605)              162105    \n",
      "_________________________________________________________________\n",
      "dense_1 (Dense)              (None, 3211)              5156866   \n",
      "=================================================================\n",
      "Total params: 6,101,671\n",
      "Trainable params: 6,101,671\n",
      "Non-trainable params: 0\n",
      "_________________________________________________________________\n"
     ]
    }
   ],
   "source": [
    "model = Sequential()\n",
    "model.add(Embedding(total_words, 100, input_length=max_sequence_len-1))\n",
    "model.add(Bidirectional(LSTM(150, return_sequences = True)))\n",
    "model.add(Dropout(0.2))\n",
    "model.add(LSTM(100))\n",
    "model.add(Dense(total_words/2, activation='relu', kernel_regularizer=regularizers.l2(0.01)))\n",
    "model.add(Dense(total_words, activation='softmax'))\n",
    "\n",
    "model.compile(loss='categorical_crossentropy', optimizer='adam', metrics=['accuracy'])\n",
    "model.summary()"
   ]
  },
  {
   "cell_type": "markdown",
   "metadata": {},
   "source": [
    "## Training the model"
   ]
  },
  {
   "cell_type": "code",
   "execution_count": 6,
   "metadata": {
    "ExecuteTime": {
     "end_time": "2019-09-23T06:40:48.212660Z",
     "start_time": "2019-09-23T05:30:06.112072Z"
    }
   },
   "outputs": [
    {
     "name": "stdout",
     "output_type": "stream",
     "text": [
      "WARNING:tensorflow:From /home/einsteinekeine/anaconda3/envs/tensorflow1/lib/python3.7/site-packages/tensorflow/python/ops/math_grad.py:1250: add_dispatch_support.<locals>.wrapper (from tensorflow.python.ops.array_ops) is deprecated and will be removed in a future version.\n",
      "Instructions for updating:\n",
      "Use tf.where in 2.0, which has the same broadcast rule as np.where\n",
      "Epoch 1/100\n",
      "15462/15462 [==============================] - 40s 3ms/sample - loss: 6.9114 - acc: 0.0208\n",
      "Epoch 2/100\n",
      "15462/15462 [==============================] - 50s 3ms/sample - loss: 6.5011 - acc: 0.0238\n",
      "Epoch 3/100\n",
      "15462/15462 [==============================] - 59s 4ms/sample - loss: 6.3918 - acc: 0.0259\n",
      "Epoch 4/100\n",
      "15462/15462 [==============================] - 60s 4ms/sample - loss: 6.2640 - acc: 0.0307\n",
      "Epoch 5/100\n",
      "15462/15462 [==============================] - 61s 4ms/sample - loss: 6.1691 - acc: 0.0350\n",
      "Epoch 6/100\n",
      "15462/15462 [==============================] - 75s 5ms/sample - loss: 6.0770 - acc: 0.0387\n",
      "Epoch 7/100\n",
      "15462/15462 [==============================] - 65s 4ms/sample - loss: 5.9866 - acc: 0.0407\n",
      "Epoch 8/100\n",
      "15462/15462 [==============================] - 67s 4ms/sample - loss: 5.8864 - acc: 0.0434\n",
      "Epoch 9/100\n",
      "15462/15462 [==============================] - 61s 4ms/sample - loss: 5.7766 - acc: 0.0519\n",
      "Epoch 10/100\n",
      "15462/15462 [==============================] - 68s 4ms/sample - loss: 5.6636 - acc: 0.0596\n",
      "Epoch 11/100\n",
      "15462/15462 [==============================] - 64s 4ms/sample - loss: 5.5557 - acc: 0.0667\n",
      "Epoch 12/100\n",
      "15462/15462 [==============================] - 63s 4ms/sample - loss: 5.4578 - acc: 0.0712\n",
      "Epoch 13/100\n",
      "15462/15462 [==============================] - 43s 3ms/sample - loss: 5.3593 - acc: 0.0792\n",
      "Epoch 14/100\n",
      "15462/15462 [==============================] - 41s 3ms/sample - loss: 5.2662 - acc: 0.0850\n",
      "Epoch 15/100\n",
      "15462/15462 [==============================] - 43s 3ms/sample - loss: 5.1733 - acc: 0.0907\n",
      "Epoch 16/100\n",
      "15462/15462 [==============================] - 39s 3ms/sample - loss: 5.0800 - acc: 0.0981\n",
      "Epoch 17/100\n",
      "15462/15462 [==============================] - 42s 3ms/sample - loss: 4.9839 - acc: 0.1061\n",
      "Epoch 18/100\n",
      "15462/15462 [==============================] - 41s 3ms/sample - loss: 4.8841 - acc: 0.1132\n",
      "Epoch 19/100\n",
      "15462/15462 [==============================] - 40s 3ms/sample - loss: 4.7923 - acc: 0.1222\n",
      "Epoch 20/100\n",
      "15462/15462 [==============================] - 42s 3ms/sample - loss: 4.6981 - acc: 0.1314\n",
      "Epoch 21/100\n",
      "15462/15462 [==============================] - 41s 3ms/sample - loss: 4.6023 - acc: 0.1372\n",
      "Epoch 22/100\n",
      "15462/15462 [==============================] - 41s 3ms/sample - loss: 4.5048 - acc: 0.1513\n",
      "Epoch 23/100\n",
      "15462/15462 [==============================] - 40s 3ms/sample - loss: 4.4011 - acc: 0.1596\n",
      "Epoch 24/100\n",
      "15462/15462 [==============================] - 39s 3ms/sample - loss: 4.3050 - acc: 0.1722\n",
      "Epoch 25/100\n",
      "15462/15462 [==============================] - 40s 3ms/sample - loss: 4.2041 - acc: 0.1846\n",
      "Epoch 26/100\n",
      "15462/15462 [==============================] - 40s 3ms/sample - loss: 4.1070 - acc: 0.1954\n",
      "Epoch 27/100\n",
      "15462/15462 [==============================] - 41s 3ms/sample - loss: 4.0186 - acc: 0.2101\n",
      "Epoch 28/100\n",
      "15462/15462 [==============================] - 39s 3ms/sample - loss: 3.9223 - acc: 0.2214\n",
      "Epoch 29/100\n",
      "15462/15462 [==============================] - 40s 3ms/sample - loss: 3.8216 - acc: 0.2377\n",
      "Epoch 30/100\n",
      "15462/15462 [==============================] - 39s 3ms/sample - loss: 3.7327 - acc: 0.2549\n",
      "Epoch 31/100\n",
      "15462/15462 [==============================] - 41s 3ms/sample - loss: 3.6439 - acc: 0.2671\n",
      "Epoch 32/100\n",
      "15462/15462 [==============================] - 40s 3ms/sample - loss: 3.5561 - acc: 0.2910\n",
      "Epoch 33/100\n",
      "15462/15462 [==============================] - 40s 3ms/sample - loss: 3.4732 - acc: 0.3016\n",
      "Epoch 34/100\n",
      "15462/15462 [==============================] - 39s 3ms/sample - loss: 3.3889 - acc: 0.3273\n",
      "Epoch 35/100\n",
      "15462/15462 [==============================] - 39s 3ms/sample - loss: 3.3079 - acc: 0.3415\n",
      "Epoch 36/100\n",
      "15462/15462 [==============================] - 40s 3ms/sample - loss: 3.2376 - acc: 0.3547\n",
      "Epoch 37/100\n",
      "15462/15462 [==============================] - 39s 3ms/sample - loss: 3.1588 - acc: 0.3771\n",
      "Epoch 38/100\n",
      "15462/15462 [==============================] - 39s 2ms/sample - loss: 3.0779 - acc: 0.3987\n",
      "Epoch 39/100\n",
      "15462/15462 [==============================] - 39s 2ms/sample - loss: 3.0126 - acc: 0.4098\n",
      "Epoch 40/100\n",
      "15462/15462 [==============================] - 39s 2ms/sample - loss: 2.9461 - acc: 0.4269\n",
      "Epoch 41/100\n",
      "15462/15462 [==============================] - 40s 3ms/sample - loss: 2.8804 - acc: 0.4424\n",
      "Epoch 42/100\n",
      "15462/15462 [==============================] - 38s 2ms/sample - loss: 2.8061 - acc: 0.4587\n",
      "Epoch 43/100\n",
      "15462/15462 [==============================] - 41s 3ms/sample - loss: 2.7468 - acc: 0.4735\n",
      "Epoch 44/100\n",
      "15462/15462 [==============================] - 40s 3ms/sample - loss: 2.6901 - acc: 0.4843\n",
      "Epoch 45/100\n",
      "15462/15462 [==============================] - 40s 3ms/sample - loss: 2.6354 - acc: 0.4949\n",
      "Epoch 46/100\n",
      "15462/15462 [==============================] - 39s 2ms/sample - loss: 2.5876 - acc: 0.5097\n",
      "Epoch 47/100\n",
      "15462/15462 [==============================] - 39s 2ms/sample - loss: 2.5238 - acc: 0.5232\n",
      "Epoch 48/100\n",
      "15462/15462 [==============================] - 39s 3ms/sample - loss: 2.4654 - acc: 0.5350\n",
      "Epoch 49/100\n",
      "15462/15462 [==============================] - 39s 3ms/sample - loss: 2.4206 - acc: 0.5462\n",
      "Epoch 50/100\n",
      "15462/15462 [==============================] - 40s 3ms/sample - loss: 2.3786 - acc: 0.5569\n",
      "Epoch 51/100\n",
      "15462/15462 [==============================] - 39s 3ms/sample - loss: 2.3355 - acc: 0.5653\n",
      "Epoch 52/100\n",
      "15462/15462 [==============================] - 39s 3ms/sample - loss: 2.2857 - acc: 0.5733\n",
      "Epoch 53/100\n",
      "15462/15462 [==============================] - 41s 3ms/sample - loss: 2.2234 - acc: 0.5898\n",
      "Epoch 54/100\n",
      "15462/15462 [==============================] - 41s 3ms/sample - loss: 2.1732 - acc: 0.6051\n",
      "Epoch 55/100\n",
      "15462/15462 [==============================] - 40s 3ms/sample - loss: 2.1556 - acc: 0.6055\n",
      "Epoch 56/100\n",
      "15462/15462 [==============================] - 41s 3ms/sample - loss: 2.1203 - acc: 0.6112\n",
      "Epoch 57/100\n",
      "15462/15462 [==============================] - 41s 3ms/sample - loss: 2.0703 - acc: 0.6258\n",
      "Epoch 58/100\n",
      "15462/15462 [==============================] - 40s 3ms/sample - loss: 2.0276 - acc: 0.6321\n",
      "Epoch 59/100\n",
      "15462/15462 [==============================] - 41s 3ms/sample - loss: 2.0027 - acc: 0.6374\n",
      "Epoch 60/100\n",
      "15462/15462 [==============================] - 40s 3ms/sample - loss: 1.9564 - acc: 0.6485\n",
      "Epoch 61/100\n",
      "15462/15462 [==============================] - 41s 3ms/sample - loss: 1.9221 - acc: 0.6563\n",
      "Epoch 62/100\n",
      "15462/15462 [==============================] - 39s 3ms/sample - loss: 1.8947 - acc: 0.6618\n",
      "Epoch 63/100\n",
      "15462/15462 [==============================] - 40s 3ms/sample - loss: 1.8560 - acc: 0.6694\n",
      "Epoch 64/100\n",
      "15462/15462 [==============================] - 40s 3ms/sample - loss: 1.8239 - acc: 0.6739\n",
      "Epoch 65/100\n",
      "15462/15462 [==============================] - 41s 3ms/sample - loss: 1.7870 - acc: 0.6872\n",
      "Epoch 66/100\n",
      "15462/15462 [==============================] - 40s 3ms/sample - loss: 1.7571 - acc: 0.6901\n",
      "Epoch 67/100\n",
      "15462/15462 [==============================] - 41s 3ms/sample - loss: 1.7334 - acc: 0.6934\n",
      "Epoch 68/100\n",
      "15462/15462 [==============================] - 39s 3ms/sample - loss: 1.7115 - acc: 0.6965\n",
      "Epoch 69/100\n",
      "15462/15462 [==============================] - 41s 3ms/sample - loss: 1.6959 - acc: 0.7030\n",
      "Epoch 70/100\n",
      "15462/15462 [==============================] - 41s 3ms/sample - loss: 1.6587 - acc: 0.7081\n",
      "Epoch 71/100\n",
      "15462/15462 [==============================] - 41s 3ms/sample - loss: 1.6288 - acc: 0.7157\n",
      "Epoch 72/100\n",
      "15462/15462 [==============================] - 41s 3ms/sample - loss: 1.6108 - acc: 0.7202\n",
      "Epoch 73/100\n",
      "15462/15462 [==============================] - 41s 3ms/sample - loss: 1.5911 - acc: 0.7243\n",
      "Epoch 74/100\n",
      "15462/15462 [==============================] - 39s 3ms/sample - loss: 1.5703 - acc: 0.7258\n",
      "Epoch 75/100\n",
      "15462/15462 [==============================] - 41s 3ms/sample - loss: 1.5474 - acc: 0.7299\n",
      "Epoch 76/100\n"
     ]
    },
    {
     "name": "stdout",
     "output_type": "stream",
     "text": [
      "15462/15462 [==============================] - 37s 2ms/sample - loss: 1.5157 - acc: 0.7401\n",
      "Epoch 77/100\n",
      "15462/15462 [==============================] - 38s 2ms/sample - loss: 1.4949 - acc: 0.7399\n",
      "Epoch 78/100\n",
      "15462/15462 [==============================] - 37s 2ms/sample - loss: 1.4934 - acc: 0.7412\n",
      "Epoch 79/100\n",
      "15462/15462 [==============================] - 38s 2ms/sample - loss: 1.4507 - acc: 0.7478\n",
      "Epoch 80/100\n",
      "15462/15462 [==============================] - 38s 2ms/sample - loss: 1.4448 - acc: 0.7499\n",
      "Epoch 81/100\n",
      "15462/15462 [==============================] - 38s 2ms/sample - loss: 1.4226 - acc: 0.7593\n",
      "Epoch 82/100\n",
      "15462/15462 [==============================] - 39s 3ms/sample - loss: 1.4089 - acc: 0.7606\n",
      "Epoch 83/100\n",
      "15462/15462 [==============================] - 40s 3ms/sample - loss: 1.3890 - acc: 0.7594\n",
      "Epoch 84/100\n",
      "15462/15462 [==============================] - 39s 3ms/sample - loss: 1.3704 - acc: 0.7664\n",
      "Epoch 85/100\n",
      "15462/15462 [==============================] - 39s 2ms/sample - loss: 1.3707 - acc: 0.7628\n",
      "Epoch 86/100\n",
      "15462/15462 [==============================] - 39s 3ms/sample - loss: 1.3447 - acc: 0.7697\n",
      "Epoch 87/100\n",
      "15462/15462 [==============================] - 39s 3ms/sample - loss: 1.3444 - acc: 0.7667\n",
      "Epoch 88/100\n",
      "15462/15462 [==============================] - 40s 3ms/sample - loss: 1.3113 - acc: 0.7754\n",
      "Epoch 89/100\n",
      "15462/15462 [==============================] - 39s 3ms/sample - loss: 1.2895 - acc: 0.7780\n",
      "Epoch 90/100\n",
      "15462/15462 [==============================] - 41s 3ms/sample - loss: 1.2768 - acc: 0.7823\n",
      "Epoch 91/100\n",
      "15462/15462 [==============================] - 40s 3ms/sample - loss: 1.2827 - acc: 0.7789\n",
      "Epoch 92/100\n",
      "15462/15462 [==============================] - 41s 3ms/sample - loss: 1.2543 - acc: 0.7868\n",
      "Epoch 93/100\n",
      "15462/15462 [==============================] - 39s 2ms/sample - loss: 1.2423 - acc: 0.7892\n",
      "Epoch 94/100\n",
      "15462/15462 [==============================] - 40s 3ms/sample - loss: 1.2345 - acc: 0.7882\n",
      "Epoch 95/100\n",
      "15462/15462 [==============================] - 40s 3ms/sample - loss: 1.2185 - acc: 0.7899\n",
      "Epoch 96/100\n",
      "15462/15462 [==============================] - 39s 2ms/sample - loss: 1.1953 - acc: 0.7956\n",
      "Epoch 97/100\n",
      "15462/15462 [==============================] - 40s 3ms/sample - loss: 1.2016 - acc: 0.7950\n",
      "Epoch 98/100\n",
      "15462/15462 [==============================] - 37s 2ms/sample - loss: 1.2000 - acc: 0.7936\n",
      "Epoch 99/100\n",
      "15462/15462 [==============================] - 40s 3ms/sample - loss: 1.1925 - acc: 0.7903\n",
      "Epoch 100/100\n",
      "15462/15462 [==============================] - 39s 3ms/sample - loss: 1.1729 - acc: 0.7991\n"
     ]
    }
   ],
   "source": [
    "with tf.device('/device:GPU:0'):\n",
    "    history = model.fit(predictors, label, epochs=100, verbose=1)"
   ]
  },
  {
   "cell_type": "markdown",
   "metadata": {},
   "source": [
    "## Visualizing the results"
   ]
  },
  {
   "cell_type": "code",
   "execution_count": 8,
   "metadata": {
    "ExecuteTime": {
     "end_time": "2019-09-23T06:43:20.946723Z",
     "start_time": "2019-09-23T06:43:20.652758Z"
    }
   },
   "outputs": [
    {
     "data": {
      "image/png": "[encoded data removed]",
      "text/plain": [
       "<Figure size 432x288 with 1 Axes>"
      ]
     },
     "metadata": {
      "needs_background": "light"
     },
     "output_type": "display_data"
    },
    {
     "data": {
      "image/png": "[encoded data removed]",
      "text/plain": [
       "<Figure size 432x288 with 1 Axes>"
      ]
     },
     "metadata": {
      "needs_background": "light"
     },
     "output_type": "display_data"
    }
   ],
   "source": [
    "import matplotlib.pyplot as plt\n",
    "acc = history.history['acc']\n",
    "loss = history.history['loss']\n",
    "\n",
    "epochs = range(len(acc))\n",
    "\n",
    "plt.plot(epochs, acc, 'b', label='Training accuracy')\n",
    "plt.title('Training accuracy')\n",
    "\n",
    "plt.figure()\n",
    "\n",
    "plt.plot(epochs, loss, 'b', label='Training Loss')\n",
    "plt.title('Training loss')\n",
    "plt.legend()\n",
    "\n",
    "plt.show()"
   ]
  },
  {
   "cell_type": "markdown",
   "metadata": {},
   "source": [
    "## Testing the model"
   ]
  },
  {
   "cell_type": "code",
   "execution_count": 9,
   "metadata": {
    "ExecuteTime": {
     "end_time": "2019-09-23T06:43:37.661686Z",
     "start_time": "2019-09-23T06:43:33.685759Z"
    }
   },
   "outputs": [
    {
     "name": "stdout",
     "output_type": "stream",
     "text": [
      "Help me Obi Wan Kenobi, you're my only hope what this shall see stay live now fears so deem'd fled lack foes foes hate shows die proceeds proceeds stell'd warm'd fled foes give men lack men lived within new true decay decay fled skill cold ' could die men grew forth dead foes go days go young new wind shows bring thee he lived she wind delight delight delight aside borne remain shows die thee seen shown remain remain lack a rest treason race treasure hate lack thus well shade fears to bring her o'er appear foes mend the treasure end new rage report spent light spent new place\n"
     ]
    }
   ],
   "source": [
    "seed_text = \"Help me Obi Wan Kenobi, you're my only hope\"\n",
    "next_words = 100\n",
    "  \n",
    "for _ in range(next_words):\n",
    "    token_list = tokenizer.texts_to_sequences([seed_text])[0]\n",
    "    token_list = pad_sequences([token_list], maxlen=max_sequence_len-1, padding='pre')\n",
    "    predicted = model.predict_classes(token_list, verbose=0)\n",
    "    output_word = \"\"\n",
    "    for word, index in tokenizer.word_index.items():\n",
    "        if index == predicted:\n",
    "            output_word = word\n",
    "            break\n",
    "    seed_text += \" \" + output_word\n",
    "print(seed_text)"
   ]
  },
  {
   "cell_type": "code",
   "execution_count": null,
   "metadata": {},
   "outputs": [],
   "source": []
  }
 ],
 "metadata": {
  "kernelspec": {
   "display_name": "Python 3",
   "language": "python",
   "name": "python3"
  },
  "language_info": {
   "codemirror_mode": {
    "name": "ipython",
    "version": 3
   },
   "file_extension": ".py",
   "mimetype": "text/x-python",
   "name": "python",
   "nbconvert_exporter": "python",
   "pygments_lexer": "ipython3",
   "version": "3.7.4"
  },
  "latex_envs": {
   "LaTeX_envs_menu_present": true,
   "autoclose": false,
   "autocomplete": true,
   "bibliofile": "biblio.bib",
   "cite_by": "apalike",
   "current_citInitial": 1,
   "eqLabelWithNumbers": true,
   "eqNumInitial": 1,
   "hotkeys": {
    "equation": "Ctrl-E",
    "itemize": "Ctrl-I"
   },
   "labels_anchors": false,
   "latex_user_defs": false,
   "report_style_numbering": false,
   "user_envs_cfg": false
  },
  "toc": {
   "base_numbering": 1,
   "nav_menu": {},
   "number_sections": true,
   "sideBar": true,
   "skip_h1_title": false,
   "title_cell": "Table of Contents",
   "title_sidebar": "Contents",
   "toc_cell": false,
   "toc_position": {},
   "toc_section_display": true,
   "toc_window_display": false
  },
  "varInspector": {
   "cols": {
    "lenName": 16,
    "lenType": 16,
    "lenVar": 40
   },
   "kernels_config": {
    "python": {
     "delete_cmd_postfix": "",
     "delete_cmd_prefix": "del ",
     "library": "var_list.py",
     "varRefreshCmd": "print(var_dic_list())"
    },
    "r": {
     "delete_cmd_postfix": ") ",
     "delete_cmd_prefix": "rm(",
     "library": "var_list.r",
     "varRefreshCmd": "cat(var_dic_list()) "
    }
   },
   "types_to_exclude": [
    "module",
    "function",
    "builtin_function_or_method",
    "instance",
    "_Feature"
   ],
   "window_display": false
  }
 },
 "nbformat": 4,
 "nbformat_minor": 2
}
